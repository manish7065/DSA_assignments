{
 "cells": [
  {
   "cell_type": "code",
   "execution_count": 2,
   "metadata": {},
   "outputs": [],
   "source": [
    "# Assignment link - https://drive.google.com/file/d/1u1sRhwU8DQkvmSb82-EvxLyiblBWmrDO/view\n",
    "# Self_drive link - https://drive.google.com/file/d/1YygMWRyb7mKLxqrdiVyFtId91LFBsIoO/view?usp=drive_link\n"
   ]
  },
  {
   "cell_type": "markdown",
   "metadata": {},
   "source": [
    "## 1. Write a Python program to check if a given string is an anagram."
   ]
  },
  {
   "cell_type": "code",
   "execution_count": null,
   "metadata": {},
   "outputs": [],
   "source": [
    "def is_anagram(str1, str2):\n",
    "    # Convert the strings to lowercase and remove spaces\n",
    "    str1 = str1.lower().replace(\" \", \"\")\n",
    "    str2 = str2.lower().replace(\" \", \"\")\n",
    "\n",
    "    # Check if the lengths of the strings are equal\n",
    "    if len(str1) != len(str2):\n",
    "        return False\n",
    "\n",
    "    # Convert the strings to lists and sort them\n",
    "    sorted_str1 = sorted(list(str1))\n",
    "    sorted_str2 = sorted(list(str2))\n",
    "\n",
    "    # Compare the sorted strings\n",
    "    if sorted_str1 == sorted_str2:\n",
    "        return True\n",
    "    else:\n",
    "        return False\n",
    "\n",
    "# Example usage\n",
    "string1 = input(\"Enter the first string: \")\n",
    "string2 = input(\"Enter the second string: \")\n",
    "result = is_anagram(string1, string2)\n",
    "\n",
    "if result:\n",
    "    print(\"The strings are anagrams.\")\n",
    "else:\n",
    "    print(\"The strings are not anagrams.\")\n"
   ]
  },
  {
   "cell_type": "code",
   "execution_count": 6,
   "metadata": {},
   "outputs": [
    {
     "data": {
      "text/plain": [
       "'manish'"
      ]
     },
     "execution_count": 6,
     "metadata": {},
     "output_type": "execute_result"
    }
   ],
   "source": [
    "string = \"Manish \"\n",
    "string.lower().replace(' ', '')"
   ]
  },
  {
   "cell_type": "code",
   "execution_count": 12,
   "metadata": {},
   "outputs": [
    {
     "data": {
      "text/plain": [
       "['a', 'h', 'i', 'm', 'n', 's']"
      ]
     },
     "execution_count": 12,
     "metadata": {},
     "output_type": "execute_result"
    }
   ],
   "source": [
    "string = \"Manish \"\n",
    "string=string.strip().lower()\n",
    "sorted(list(string))"
   ]
  },
  {
   "cell_type": "markdown",
   "metadata": {},
   "source": [
    "## 2. Write a Python program to find the maximum and minimum values in adictionary."
   ]
  },
  {
   "cell_type": "code",
   "execution_count": 18,
   "metadata": {},
   "outputs": [
    {
     "name": "stdout",
     "output_type": "stream",
     "text": [
      "<class 'set'>\n"
     ]
    },
    {
     "data": {
      "text/plain": [
       "4"
      ]
     },
     "execution_count": 18,
     "metadata": {},
     "output_type": "execute_result"
    }
   ],
   "source": [
    "l = {1,2,3,4}\n",
    "print(type(l))\n",
    "max(l)"
   ]
  },
  {
   "cell_type": "code",
   "execution_count": 23,
   "metadata": {},
   "outputs": [
    {
     "name": "stdout",
     "output_type": "stream",
     "text": [
      "<class 'dict'>\n"
     ]
    },
    {
     "data": {
      "text/plain": [
       "3"
      ]
     },
     "execution_count": 23,
     "metadata": {},
     "output_type": "execute_result"
    }
   ],
   "source": [
    "l = {'a':1,'b':2,'c':3}\n",
    "print(type(l))\n",
    "max(l.values())"
   ]
  },
  {
   "cell_type": "code",
   "execution_count": 24,
   "metadata": {},
   "outputs": [
    {
     "name": "stdout",
     "output_type": "stream",
     "text": [
      "Maximum value of list is: 42\n",
      "Minimum value of list is: 12\n"
     ]
    }
   ],
   "source": [
    "def find_max_min(dictionary):\n",
    "    max_value = max(dictionary.values())\n",
    "    min_value = min(dictionary.values())\n",
    "\n",
    "    return max_value, min_value\n",
    "\n",
    "dictionary = {'a':12,'b':34,'c':42}\n",
    "max,min = find_max_min(dictionary)\n",
    "\n",
    "print(f\"Maximum value of list is: {max}\")\n",
    "print(f\"Minimum value of list is: {min}\")\n",
    "\n"
   ]
  },
  {
   "cell_type": "markdown",
   "metadata": {},
   "source": [
    "## Factorial without recurssion\n",
    "\n"
   ]
  },
  {
   "cell_type": "code",
   "execution_count": 31,
   "metadata": {},
   "outputs": [
    {
     "name": "stdout",
     "output_type": "stream",
     "text": [
      "Factorial: 6\n"
     ]
    }
   ],
   "source": [
    "def factorial(n):\n",
    "    if n < 0:\n",
    "        return \"Factorial is not defined for negative numbers.\"\n",
    "    elif n == 0 or n == 1:\n",
    "        return 1\n",
    "    else:\n",
    "        result = 1\n",
    "        for i in range(2, n + 1):\n",
    "            result *= i\n",
    "        return result\n",
    "\n",
    "# Example usage\n",
    "number = int(input(\"Enter a number: \"))\n",
    "result = factorial(number)\n",
    "print(\"Factorial:\", result)\n"
   ]
  },
  {
   "cell_type": "markdown",
   "metadata": {},
   "source": [
    "## Write a Python function to calculate the factorial of a number using recursion."
   ]
  },
  {
   "cell_type": "code",
   "execution_count": 23,
   "metadata": {},
   "outputs": [
    {
     "data": {
      "text/plain": [
       "120"
      ]
     },
     "execution_count": 23,
     "metadata": {},
     "output_type": "execute_result"
    }
   ],
   "source": [
    "def factorial(n):\n",
    "    if n<0:\n",
    "        print(\"Enter a positive integer, factorial is not defined for the negative integer.\")\n",
    "    elif n == 0 or n==1:\n",
    "        return 1\n",
    "    #using recursion\n",
    "    fact = factorial(n-1)\n",
    "    result = fact * n \n",
    "    return result\n",
    "\n",
    "factorial(5)"
   ]
  },
  {
   "cell_type": "markdown",
   "metadata": {},
   "source": [
    "## Calculating execution time using decorator"
   ]
  },
  {
   "cell_type": "code",
   "execution_count": 26,
   "metadata": {},
   "outputs": [
    {
     "name": "stdout",
     "output_type": "stream",
     "text": [
      "Execution time for <function factorial at 0x7f219c0ff280> is: 7.152557373046875e-07 secs.\n",
      "Execution time for <function factorial at 0x7f219c0ff280> is: 6.580352783203125e-05 secs.\n",
      "Execution time for <function factorial at 0x7f219c0ff280> is: 7.653236389160156e-05 secs.\n",
      "Execution time for <function factorial at 0x7f219c0ff280> is: 8.463859558105469e-05 secs.\n",
      "Execution time for <function factorial at 0x7f219c0ff280> is: 9.298324584960938e-05 secs.\n"
     ]
    },
    {
     "data": {
      "text/plain": [
       "120"
      ]
     },
     "execution_count": 26,
     "metadata": {},
     "output_type": "execute_result"
    }
   ],
   "source": [
    "import time\n",
    "\n",
    "def log_time(func):\n",
    "    def wrapper(*args, **kwargs):\n",
    "        start_time = time.time()\n",
    "        result = func(*args, **kwargs)\n",
    "        end_time = time.time()\n",
    "        execution_time = end_time - start_time\n",
    "        print(f\"Execution time for {func} is: {execution_time} secs.\")\n",
    "        return result\n",
    "    return wrapper\n",
    "\n",
    "\n",
    "@log_time\n",
    "def factorial(n):\n",
    "    if n<0:\n",
    "        print(\"Enter a positive integer, factorial is not defined for the negative integer.\")\n",
    "    elif n == 0 or n==1:\n",
    "        return 1\n",
    "    #using recursion\n",
    "    fact = factorial(n-1)\n",
    "    result = fact * n \n",
    "    return result\n",
    "\n",
    "factorial(5)"
   ]
  },
  {
   "cell_type": "code",
   "execution_count": 27,
   "metadata": {},
   "outputs": [
    {
     "name": "stdout",
     "output_type": "stream",
     "text": [
      "Function 'factorial' executed in 7.152557373046875e-07 seconds\n",
      "Function 'factorial' executed in 6.270408630371094e-05 seconds\n",
      "Function 'factorial' executed in 7.200241088867188e-05 seconds\n",
      "Function 'factorial' executed in 8.082389831542969e-05 seconds\n",
      "Function 'factorial' executed in 8.749961853027344e-05 seconds\n",
      "Function 'factorial' executed in 9.441375732421875e-05 seconds\n",
      "Function 'factorial' executed in 0.00010132789611816406 seconds\n",
      "Function 'factorial' executed in 0.00010848045349121094 seconds\n",
      "Function 'factorial' executed in 0.00011444091796875 seconds\n",
      "Function 'factorial' executed in 0.00012063980102539062 seconds\n",
      "Function 'factorial' executed in 0.00012683868408203125 seconds\n",
      "Function 'factorial' executed in 0.00013256072998046875 seconds\n",
      "Function 'factorial' executed in 0.00013875961303710938 seconds\n",
      "Function 'factorial' executed in 0.00014519691467285156 seconds\n",
      "Function 'factorial' executed in 0.0001518726348876953 seconds\n"
     ]
    },
    {
     "data": {
      "text/plain": [
       "1307674368000"
      ]
     },
     "execution_count": 27,
     "metadata": {},
     "output_type": "execute_result"
    }
   ],
   "source": [
    "import time\n",
    "\n",
    "def log_time(func):\n",
    "    def wrapper(*args, **kwargs):\n",
    "        start_time = time.time()\n",
    "        result = func(*args, **kwargs)\n",
    "        end_time = time.time()\n",
    "        execution_time = end_time - start_time\n",
    "        print(f\"Function '{func.__name__}' executed in {execution_time} seconds\")\n",
    "        return result\n",
    "    return wrapper\n",
    "\n",
    "# Using the decorator\n",
    "@log_time\n",
    "def factorial(n):\n",
    "    if n<0:\n",
    "        print(\"Enter a positive integer, factorial is not defined for the negative integer.\")\n",
    "    elif n == 0 or n==1:\n",
    "        return 1\n",
    "    #using recursion\n",
    "    fact = factorial(n-1)\n",
    "    result = fact * n \n",
    "    return result\n",
    "\n",
    "factorial(15)\n"
   ]
  },
  {
   "cell_type": "code",
   "execution_count": 29,
   "metadata": {},
   "outputs": [],
   "source": [
    "import time\n",
    "\n",
    "def log_time(func):\n",
    "    def wrapper(*args, **kwargs):\n",
    "        start_time = time.time()\n",
    "        result = func(*args, **kwargs)\n",
    "        end_time = time.time()\n",
    "        execution_time = end_time - start_time\n",
    "        return result, execution_time\n",
    "    return wrapper\n",
    "\n",
    "@log_time\n",
    "def factorial(n):\n",
    "    if n < 0:\n",
    "        return \"Enter a positive integer. Factorial is not defined for negative integers.\"\n",
    "    elif n == 0 or n == 1:\n",
    "        return 1\n",
    "    fact = factorial(n-1)\n",
    "    result = fact * n\n",
    "    return result\n",
    "\n",
    "result, execution_time = factorial(15)\n",
    "print(f\"Factorial: {result}\")\n",
    "print(f\"Function 'factorial' executed in {execution_time} seconds\")\n"
   ]
  },
  {
   "cell_type": "code",
   "execution_count": 2,
   "metadata": {},
   "outputs": [
    {
     "name": "stdout",
     "output_type": "stream",
     "text": [
      "Factorial: 1307674368000\n",
      "Function 'factorial' executed in 3.814697265625e-06 seconds\n"
     ]
    }
   ],
   "source": [
    "import time\n",
    "\n",
    "def log_time(func):\n",
    "    def wrapper(*args, **kwargs):\n",
    "        start_time = time.time()\n",
    "        result = func(*args, **kwargs)\n",
    "        end_time = time.time()\n",
    "        execution_time = end_time - start_time\n",
    "        return result, execution_time\n",
    "    return wrapper\n",
    "\n",
    "@log_time\n",
    "def factorial(n):\n",
    "    if n < 0:\n",
    "        return \"Factorial is not defined for negative numbers.\"\n",
    "    elif n == 0 or n == 1:\n",
    "        return 1\n",
    "    else:\n",
    "        result = 1\n",
    "        for i in range(2, n + 1):\n",
    "            result *= i\n",
    "        return result\n",
    "\n",
    "result, execution_time = factorial(15)\n",
    "print(f\"Factorial: {result}\")\n",
    "print(f\"Function 'factorial' executed in {execution_time} seconds\")\n"
   ]
  },
  {
   "cell_type": "code",
   "execution_count": 3,
   "metadata": {},
   "outputs": [
    {
     "name": "stdout",
     "output_type": "stream",
     "text": [
      "Factorial: 1307674368000\n",
      "Function 'factorial' executed in <function log_time.<locals>.wrapper at 0x7fb4f5401a60> seconds\n"
     ]
    }
   ],
   "source": [
    "import time\n",
    "\n",
    "def log_time(func):\n",
    "    def wrapper(*args, **kwargs):\n",
    "        start_time = time.time()\n",
    "        result = func(*args, **kwargs)\n",
    "        end_time = time.time()\n",
    "        execution_time = end_time - start_time\n",
    "        return execution_time\n",
    "    return wrapper\n",
    "\n",
    "# @log_time\n",
    "def factorial(n):\n",
    "    if n < 0:\n",
    "        return \"Enter a positive integer. Factorial is not defined for negative integers.\"\n",
    "    elif n == 0 or n == 1:\n",
    "        return 1\n",
    "    else:\n",
    "        fact = factorial(n-1)\n",
    "        result = fact * n\n",
    "        return result\n",
    "\n",
    "result = factorial(15)\n",
    "\n",
    "execution_time = log_time(factorial(15))\n",
    "print(f\"Factorial: {result}\")\n",
    "print(f\"Function 'factorial' executed in {execution_time} seconds\")\n"
   ]
  },
  {
   "cell_type": "code",
   "execution_count": null,
   "metadata": {},
   "outputs": [],
   "source": []
  }
 ],
 "metadata": {
  "kernelspec": {
   "display_name": "Python 3.8.10 64-bit",
   "language": "python",
   "name": "python3"
  },
  "language_info": {
   "codemirror_mode": {
    "name": "ipython",
    "version": 3
   },
   "file_extension": ".py",
   "mimetype": "text/x-python",
   "name": "python",
   "nbconvert_exporter": "python",
   "pygments_lexer": "ipython3",
   "version": "3.8.10"
  },
  "orig_nbformat": 4,
  "vscode": {
   "interpreter": {
    "hash": "e7370f93d1d0cde622a1f8e1c04877d8463912d04d973331ad4851f04de6915a"
   }
  }
 },
 "nbformat": 4,
 "nbformat_minor": 2
}
