{
 "cells": [
  {
   "cell_type": "code",
   "execution_count": null,
   "metadata": {},
   "outputs": [],
   "source": []
  },
  {
   "cell_type": "code",
   "execution_count": 3,
   "metadata": {},
   "outputs": [],
   "source": [
    "def febonacci_serias(n):\n",
    "\n",
    "    if n< 0 :\n",
    "        print('pleasr give a positive integer.')\n",
    "\n",
    "    else:\n",
    "        fib = [0,1]\n",
    "\n",
    "        while n>fib[-1]:\n",
    "\n",
    "            next_number = fib[-1]+fib[-2]\n",
    "            if next_number>n:\n",
    "                break\n",
    "            fib.append(next_number)\n",
    "        \n",
    "\n",
    "    return fib"
   ]
  },
  {
   "cell_type": "code",
   "execution_count": 4,
   "metadata": {},
   "outputs": [
    {
     "data": {
      "text/plain": [
       "[0, 1, 1, 2, 3, 5, 8, 13, 21]"
      ]
     },
     "execution_count": 4,
     "metadata": {},
     "output_type": "execute_result"
    }
   ],
   "source": [
    "febonacci_serias(23)"
   ]
  },
  {
   "cell_type": "code",
   "execution_count": 9,
   "metadata": {},
   "outputs": [],
   "source": [
    "# To give n no of febonacci series\n",
    "\n",
    "def febonacci_serias(n):\n",
    "\n",
    "    if n< 0 :\n",
    "        print('pleasr give a positive integer.')\n",
    "\n",
    "    else:\n",
    "        fib = [0,1]\n",
    "\n",
    "        while n>=len(fib):\n",
    "\n",
    "            next_number = fib[-1]+fib[-2]\n",
    "            # if next_number>n:\n",
    "            #     break\n",
    "            fib.append(next_number)\n",
    "        \n",
    "\n",
    "    return fib"
   ]
  },
  {
   "cell_type": "code",
   "execution_count": 14,
   "metadata": {},
   "outputs": [],
   "source": [
    "m=febonacci_serias(200)"
   ]
  },
  {
   "cell_type": "code",
   "execution_count": 13,
   "metadata": {},
   "outputs": [
    {
     "name": "stdout",
     "output_type": "stream",
     "text": [
      "Fibonacci series up to 5 : [0, 1, 1, 2, 3]\n"
     ]
    }
   ],
   "source": [
    "# Solution wih recursion\n",
    "\n",
    "def fibonacci_series(n):\n",
    "    # Check if the given number is valid\n",
    "    if n <= 0:\n",
    "        print(\"Invalid input. Please provide a positive integer.\")\n",
    "        return []\n",
    "\n",
    "    # Base cases: Fibonacci series starts with 0 and 1\n",
    "    if n == 1:\n",
    "        return [0]\n",
    "    elif n == 2:\n",
    "        return [0, 1]\n",
    "\n",
    "    # Recursive step: Generate the Fibonacci series\n",
    "    fib_list = fibonacci_series(n - 1)\n",
    "    fib_list.append(fib_list[-1] + fib_list[-2])\n",
    "    return fib_list\n",
    "\n",
    "# Example usage\n",
    "number = int(input(\"Enter a number: \"))\n",
    "result = fibonacci_series(number)\n",
    "print(\"Fibonacci series up to\", number, \":\", result)\n"
   ]
  },
  {
   "cell_type": "code",
   "execution_count": 6,
   "metadata": {},
   "outputs": [
    {
     "name": "stdout",
     "output_type": "stream",
     "text": [
      "2\n",
      "6\n",
      "24\n"
     ]
    },
    {
     "data": {
      "text/plain": [
       "24"
      ]
     },
     "execution_count": 6,
     "metadata": {},
     "output_type": "execute_result"
    }
   ],
   "source": [
    "def factorial(n):\n",
    "    if n<0:\n",
    "        print(\"Please give a positive integer.\")\n",
    "    elif n==0 or n==1:\n",
    "        return 1\n",
    "    else:\n",
    "        result=1\n",
    "        for i in range(2,n+1):\n",
    "            result = result*i\n",
    "            print(result)\n",
    "        return result\n",
    "\n",
    "factorial(4)"
   ]
  },
  {
   "cell_type": "code",
   "execution_count": null,
   "metadata": {},
   "outputs": [],
   "source": []
  }
 ],
 "metadata": {
  "kernelspec": {
   "display_name": "Python 3.8.10 64-bit",
   "language": "python",
   "name": "python3"
  },
  "language_info": {
   "codemirror_mode": {
    "name": "ipython",
    "version": 3
   },
   "file_extension": ".py",
   "mimetype": "text/x-python",
   "name": "python",
   "nbconvert_exporter": "python",
   "pygments_lexer": "ipython3",
   "version": "3.8.10"
  },
  "orig_nbformat": 4,
  "vscode": {
   "interpreter": {
    "hash": "e7370f93d1d0cde622a1f8e1c04877d8463912d04d973331ad4851f04de6915a"
   }
  }
 },
 "nbformat": 4,
 "nbformat_minor": 2
}
