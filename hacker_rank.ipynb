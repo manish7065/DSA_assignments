{
 "cells": [
  {
   "cell_type": "markdown",
   "metadata": {},
   "source": [
    "Given the names and grades for each student in a class of  students, store them in a nested list and print the name(s) of any student(s) having the second lowest grade.\n",
    "\n",
    "Note: If there are multiple students with the second lowest grade, order their names alphabetically and print each name on a new line.\n",
    "\n",
    "Example\n",
    "\n",
    "The ordered list of scores is , so the second lowest score is . There are two students with that score: . Ordered alphabetically, the names are printed as:\n",
    "\n",
    "alpha\n",
    "beta\n",
    "Input Format\n",
    "\n",
    "The first line contains an integer, , the number of students.\n",
    "The  subsequent lines describe each student over  lines.\n",
    "- The first line contains a student's name.\n",
    "- The second line contains their grade.\n",
    "\n",
    "Constraints\n",
    "\n",
    "There will always be one or more students having the second lowest grade.\n",
    "Output Format\n",
    "\n",
    "Print the name(s) of any student(s) having the second lowest grade in. If there are multiple students, order their names alphabetically and print each one on a new line.\n",
    "\n",
    "Sample Input 0\n",
    "[link](https://www.hackerrank.com/challenges/nested-list/problem?isFullScreen=true&h_r=next-challenge&h_v=zen&h_r=next-challenge&h_v=zen)"
   ]
  },
  {
   "cell_type": "code",
   "execution_count": 1,
   "metadata": {},
   "outputs": [
    {
     "name": "stdout",
     "output_type": "stream",
     "text": [
      "      Name  Score\n",
      "0    Alice     95\n",
      "1      Bob     88\n",
      "2  Charlie     72\n",
      "3    David     91\n",
      "4      Eve     78\n"
     ]
    }
   ],
   "source": [
    "import pandas as pd\n",
    "\n",
    "# List of dictionaries containing student names and scores\n",
    "student_data = [\n",
    "    {\"Name\": \"Alice\", \"Score\": 95},\n",
    "    {\"Name\": \"Bob\", \"Score\": 88},\n",
    "    {\"Name\": \"Charlie\", \"Score\": 72},\n",
    "    {\"Name\": \"David\", \"Score\": 91},\n",
    "    {\"Name\": \"Eve\", \"Score\": 78}\n",
    "]\n",
    "\n",
    "# Create a DataFrame from the list of dictionaries\n",
    "df = pd.DataFrame(student_data)\n",
    "\n",
    "# Display the DataFrame\n",
    "print(df)\n"
   ]
  },
  {
   "cell_type": "code",
   "execution_count": 20,
   "metadata": {},
   "outputs": [
    {
     "data": {
      "text/plain": [
       "[{'Name': 'Alice', 'Score': 95},\n",
       " {'Name': 'Bob', 'Score': 88},\n",
       " {'Name': 'Charlie', 'Score': 72},\n",
       " {'Name': 'David', 'Score': 91},\n",
       " {'Name': 'Eve', 'Score': 78}]"
      ]
     },
     "execution_count": 20,
     "metadata": {},
     "output_type": "execute_result"
    }
   ],
   "source": [
    "student_data"
   ]
  },
  {
   "cell_type": "code",
   "execution_count": 19,
   "metadata": {},
   "outputs": [
    {
     "name": "stdout",
     "output_type": "stream",
     "text": [
      "Age: 30\n",
      "Gender: Key not found\n"
     ]
    }
   ],
   "source": [
    "my_dict = {\"name\": \"Alice\", \"age\": 30, \"city\": \"New York\"}\n",
    "\n",
    "# Get the value associated with a key, or a default value if not found\n",
    "age = my_dict.get(\"age\", \"Key not found\")\n",
    "print(\"Age:\", age)\n",
    "\n",
    "# Try to get a key that doesn't exist\n",
    "gender = my_dict.get(\"gender\", \"Key not found\")\n",
    "print(\"Gender:\", gender)\n"
   ]
  },
  {
   "cell_type": "code",
   "execution_count": 12,
   "metadata": {},
   "outputs": [
    {
     "name": "stdout",
     "output_type": "stream",
     "text": [
      "[2, 4]\n"
     ]
    }
   ],
   "source": [
    "my_list = [1, 2, 3, 4, 3, 5]\n",
    "print([i for i,x in enumerate(my_list) if x==3])"
   ]
  },
  {
   "cell_type": "code",
   "execution_count": 15,
   "metadata": {},
   "outputs": [
    {
     "name": "stdout",
     "output_type": "stream",
     "text": [
      "[(0, 1), (1, 2), (2, 3), (3, 4), (4, 3), (5, 5)]\n"
     ]
    }
   ],
   "source": [
    "my_list = [1, 2, 3, 4, 3, 5]\n",
    "print([i for i in enumerate(my_list)])"
   ]
  },
  {
   "cell_type": "markdown",
   "metadata": {},
   "source": [
    "# Dictionary shorting"
   ]
  },
  {
   "cell_type": "code",
   "execution_count": 25,
   "metadata": {},
   "outputs": [
    {
     "name": "stdout",
     "output_type": "stream",
     "text": [
      "{'apple': 3, 'banana': 1, 'cherry': 2}\n"
     ]
    }
   ],
   "source": [
    "my_dict = {\"apple\": 3, \"banana\": 1, \"cherry\": 2,\"cucumber\": 2}\n",
    "\n",
    "# Sort the dictionary by keys in ascending order\n",
    "sorted_dict_by_keys = dict(sorted(my_dict.items()))\n",
    "\n",
    "\n",
    "print(sorted_dict_by_keys)\n"
   ]
  },
  {
   "cell_type": "code",
   "execution_count": 26,
   "metadata": {},
   "outputs": [
    {
     "name": "stdout",
     "output_type": "stream",
     "text": [
      "{'banana': 1, 'cherry': 2, 'apple': 3}\n"
     ]
    }
   ],
   "source": [
    "my_dict = {\"apple\": 3, \"banana\": 1, \"cherry\": 2}\n",
    "\n",
    "# Sort the dictionary by values in ascending order\n",
    "sorted_dict_by_values = dict(sorted(my_dict.items(), key=lambda item: item[1]))\n",
    "\n",
    "print(sorted_dict_by_values)\n"
   ]
  },
  {
   "cell_type": "markdown",
   "metadata": {},
   "source": [
    "## short by value then key"
   ]
  },
  {
   "cell_type": "code",
   "execution_count": 35,
   "metadata": {},
   "outputs": [
    {
     "data": {
      "text/plain": [
       "{'banana': 1, 'cherry': 2, 'cucumber': 2, 'apple': 3}"
      ]
     },
     "execution_count": 35,
     "metadata": {},
     "output_type": "execute_result"
    }
   ],
   "source": [
    "my_dict = {\"apple\": 3, \"banana\": 1, \"cherry\": 2,\"cucumber\": 2}\n",
    "my_dict = dict(sorted(my_dict.items()))\n",
    "my_dict = dict(sorted(my_dict.items(), key=lambda item: item[1]))\n",
    "\n",
    "my_dict"
   ]
  },
  {
   "cell_type": "code",
   "execution_count": 36,
   "metadata": {},
   "outputs": [
    {
     "data": {
      "text/plain": [
       "3"
      ]
     },
     "execution_count": 36,
     "metadata": {},
     "output_type": "execute_result"
    }
   ],
   "source": [
    "max(my_dict.values())\n"
   ]
  },
  {
   "cell_type": "code",
   "execution_count": 37,
   "metadata": {},
   "outputs": [
    {
     "name": "stdout",
     "output_type": "stream",
     "text": [
      "Alice\n",
      "Charlie\n"
     ]
    }
   ],
   "source": [
    "# List of dictionaries with student names as keys and scores as values\n",
    "students = [\n",
    "    {\"name\": \"Alice\", \"score\": 95},\n",
    "    {\"name\": \"Bob\", \"score\": 88},\n",
    "    {\"name\": \"Charlie\", \"score\": 95},\n",
    "    {\"name\": \"David\", \"score\": 91},\n",
    "    {\"name\": \"Eve\", \"score\": 88}\n",
    "]\n",
    "\n",
    "# Initialize variables to keep track of maximum score and student names\n",
    "max_score = float(\"-inf\")  # Start with negative infinity as the initial maximum score\n",
    "max_score_students = []     # List to store student names with the maximum score\n",
    "\n",
    "# Iterate through the list of students\n",
    "for student in students:\n",
    "    score = student[\"score\"]\n",
    "    name = student[\"name\"]\n",
    "    \n",
    "    if score > max_score:\n",
    "        # If a higher score is found, update the maximum score and reset the list\n",
    "        max_score = score\n",
    "        max_score_students = [name]\n",
    "    elif score == max_score:\n",
    "        # If a student has the same score as the current maximum, add their name\n",
    "        max_score_students.append(name)\n",
    "\n",
    "# Sort the student names in alphabetical order and print them\n",
    "max_score_students.sort()\n",
    "for name in max_score_students:\n",
    "    print(name)\n"
   ]
  },
  {
   "cell_type": "code",
   "execution_count": null,
   "metadata": {},
   "outputs": [],
   "source": [
    "# List of dictionaries with student names as keys and scores as values\n",
    "students = [\n",
    "    {\"name\": \"Alice\", \"score\": 95},\n",
    "    {\"name\": \"Bob\", \"score\": 88},\n",
    "    {\"name\": \"Charlie\", \"score\": 95},\n",
    "    {\"name\": \"David\", \"score\": 91},\n",
    "    {\"name\": \"Eve\", \"score\": 88}\n",
    "]\n",
    "\n",
    "# Initialize variables to keep track of the lowest and second lowest scores and student names\n",
    "lowest_score = float(\"inf\")  # Start with positive infinity as the initial lowest score\n",
    "second_lowest_score = float(\"inf\")  # Start with positive infinity as the initial second lowest score\n",
    "lowest_score_students = []  # List to store student names with the lowest score\n",
    "second_lowest_score_students = []  # List to store student names with the second lowest score\n",
    "\n",
    "# Iterate through the list of students to find the lowest and second lowest scores\n",
    "for student in students:\n",
    "    score = student[\"score\"]\n",
    "    name = student[\"name\"]\n",
    "    \n",
    "    if score < lowest_score:\n",
    "        # If a lower score is found, update the second lowest score and reset the lists\n",
    "        second_lowest_score = lowest_score\n",
    "        lowest_score = score\n",
    "        second_lowest_score_students = lowest_score_students[:]\n",
    "        lowest_score_students = [name]\n",
    "    elif score == lowest_score:\n",
    "        # If a student has the same score as the current lowest, add their name\n",
    "        lowest_score_students.append(name)\n",
    "    elif score < second_lowest_score:\n",
    "        # If a lower score than the current second lowest is found, update the second lowest score\n",
    "        second_lowest_score = score\n",
    "        second_lowest_score_students = [name]\n",
    "    elif score == second_lowest_score:\n",
    "        # If a student has the same score as the current second lowest, add their name\n",
    "        second_lowest_score_students.append(name)\n",
    "\n",
    "# Sort the student names in alphabetical order and print them\n",
    "second_lowest_score_students.sort()\n",
    "for name in second_lowest_score_students:\n",
    "    print(name)\n"
   ]
  },
  {
   "cell_type": "code",
   "execution_count": 40,
   "metadata": {},
   "outputs": [
    {
     "ename": "ValueError",
     "evalue": "invalid literal for int() with base 10: ''",
     "output_type": "error",
     "traceback": [
      "\u001b[0;31m---------------------------------------------------------------------------\u001b[0m",
      "\u001b[0;31mValueError\u001b[0m                                Traceback (most recent call last)",
      "\u001b[1;32m/manish7065/DSA_assignments/hacker_rank.ipynb Cell 15\u001b[0m line \u001b[0;36m2\n\u001b[1;32m      <a href='vscode-notebook-cell://github%2B7b2276223a312c22726566223a7b2274797065223a362c226964223a226d61696e227d7d/manish7065/DSA_assignments/hacker_rank.ipynb#X42sdnNjb2RlLXZmcw%3D%3D?line=0'>1</a>\u001b[0m \u001b[39m# Input the number of students\u001b[39;00m\n\u001b[0;32m----> <a href='vscode-notebook-cell://github%2B7b2276223a312c22726566223a7b2274797065223a362c226964223a226d61696e227d7d/manish7065/DSA_assignments/hacker_rank.ipynb#X42sdnNjb2RlLXZmcw%3D%3D?line=1'>2</a>\u001b[0m n \u001b[39m=\u001b[39m \u001b[39mint\u001b[39;49m(\u001b[39minput\u001b[39;49m())\n\u001b[1;32m      <a href='vscode-notebook-cell://github%2B7b2276223a312c22726566223a7b2274797065223a362c226964223a226d61696e227d7d/manish7065/DSA_assignments/hacker_rank.ipynb#X42sdnNjb2RlLXZmcw%3D%3D?line=3'>4</a>\u001b[0m \u001b[39m# Create a list to store students' information as nested lists [name, grade]\u001b[39;00m\n\u001b[1;32m      <a href='vscode-notebook-cell://github%2B7b2276223a312c22726566223a7b2274797065223a362c226964223a226d61696e227d7d/manish7065/DSA_assignments/hacker_rank.ipynb#X42sdnNjb2RlLXZmcw%3D%3D?line=4'>5</a>\u001b[0m student_list \u001b[39m=\u001b[39m []\n",
      "\u001b[0;31mValueError\u001b[0m: invalid literal for int() with base 10: ''"
     ]
    }
   ],
   "source": [
    "# Input the number of students\n",
    "n = int(input())\n",
    "\n",
    "# Create a list to store students' information as nested lists [name, grade]\n",
    "student_list = []\n",
    "\n",
    "# Input each student's information\n",
    "for _ in range(n):\n",
    "    name = input()\n",
    "    grade = float(input())\n",
    "    student_list.append([name, grade])\n",
    "\n",
    "# Find the second lowest grade\n",
    "grades = set(grade for name, grade in student_list)\n",
    "second_lowest_grade = sorted(grades)[1]\n",
    "\n",
    "# Find and store the names of students with the second lowest grade\n",
    "second_lowest_students = [name for name, grade in student_list if grade == second_lowest_grade]\n",
    "\n",
    "# Sort the names alphabetically\n",
    "second_lowest_students.sort()\n",
    "\n",
    "# Print the names of students with the second lowest grade\n",
    "for name in second_lowest_students:\n",
    "    print(name)\n"
   ]
  },
  {
   "cell_type": "markdown",
   "metadata": {},
   "source": [
    "[Hacker rank link](https://www.hackerrank.com/challenges/nested-list/problem?isFullScreen=true&h_r=next-challenge&h_v=zen&h_r=next-challenge&h_v=zen)"
   ]
  },
  {
   "cell_type": "code",
   "execution_count": 41,
   "metadata": {},
   "outputs": [
    {
     "ename": "ValueError",
     "evalue": "invalid literal for int() with base 10: ''",
     "output_type": "error",
     "traceback": [
      "\u001b[0;31m---------------------------------------------------------------------------\u001b[0m",
      "\u001b[0;31mValueError\u001b[0m                                Traceback (most recent call last)",
      "\u001b[1;32m/manish7065/DSA_assignments/hacker_rank.ipynb Cell 16\u001b[0m line \u001b[0;36m7\n\u001b[1;32m      <a href='vscode-notebook-cell://github%2B7b2276223a312c22726566223a7b2274797065223a362c226964223a226d61696e227d7d/manish7065/DSA_assignments/hacker_rank.ipynb#X43sdnNjb2RlLXZmcw%3D%3D?line=3'>4</a>\u001b[0m students \u001b[39m=\u001b[39m []\n\u001b[1;32m      <a href='vscode-notebook-cell://github%2B7b2276223a312c22726566223a7b2274797065223a362c226964223a226d61696e227d7d/manish7065/DSA_assignments/hacker_rank.ipynb#X43sdnNjb2RlLXZmcw%3D%3D?line=4'>5</a>\u001b[0m student_list \u001b[39m=\u001b[39m []\n\u001b[0;32m----> <a href='vscode-notebook-cell://github%2B7b2276223a312c22726566223a7b2274797065223a362c226964223a226d61696e227d7d/manish7065/DSA_assignments/hacker_rank.ipynb#X43sdnNjb2RlLXZmcw%3D%3D?line=6'>7</a>\u001b[0m \u001b[39mfor\u001b[39;00m _ \u001b[39min\u001b[39;00m \u001b[39mrange\u001b[39m(\u001b[39mint\u001b[39;49m(\u001b[39minput\u001b[39;49m())):\n\u001b[1;32m      <a href='vscode-notebook-cell://github%2B7b2276223a312c22726566223a7b2274797065223a362c226964223a226d61696e227d7d/manish7065/DSA_assignments/hacker_rank.ipynb#X43sdnNjb2RlLXZmcw%3D%3D?line=7'>8</a>\u001b[0m     name \u001b[39m=\u001b[39m \u001b[39minput\u001b[39m()\n\u001b[1;32m      <a href='vscode-notebook-cell://github%2B7b2276223a312c22726566223a7b2274797065223a362c226964223a226d61696e227d7d/manish7065/DSA_assignments/hacker_rank.ipynb#X43sdnNjb2RlLXZmcw%3D%3D?line=8'>9</a>\u001b[0m     score \u001b[39m=\u001b[39m \u001b[39mfloat\u001b[39m(\u001b[39minput\u001b[39m())\n",
      "\u001b[0;31mValueError\u001b[0m: invalid literal for int() with base 10: ''"
     ]
    }
   ],
   "source": [
    "#Working\n",
    "if __name__ == '__main__':\n",
    "    namelist = []\n",
    "    score_list = []\n",
    "    students = []\n",
    "    student_list = []\n",
    "    \n",
    "    for _ in range(int(input())):\n",
    "        name = input()\n",
    "        score = float(input())\n",
    "        student_list.append([name, score])\n",
    "\n",
    "        \n",
    "    max_score = float(\"-inf\")  # Start with negative infinity as the initial maximum score\n",
    "    max_score_students = []     # List to store student names with the maximum score\n",
    "        \n",
    "        # Iterate through the list of students\n",
    "    # Find the second lowest grade\n",
    "    grades = set(grade for name, grade in student_list)\n",
    "    second_lowest_grade = sorted(grades)[1]\n",
    "\n",
    "    # Find and store the names of students with the second lowest grade\n",
    "    second_lowest_students = [name for name, grade in student_list if grade == second_lowest_grade]\n",
    "\n",
    "    # Sort the names alphabetically\n",
    "    second_lowest_students.sort()\n",
    "\n",
    "    # Print the names of students with the second lowest grade\n",
    "    for name in second_lowest_students:\n",
    "        print(name)"
   ]
  },
  {
   "cell_type": "code",
   "execution_count": null,
   "metadata": {},
   "outputs": [],
   "source": []
  }
 ],
 "metadata": {
  "kernelspec": {
   "display_name": "Python 3 (ipykernel)",
   "language": "python",
   "name": "python3"
  },
  "language_info": {
   "codemirror_mode": {
    "name": "ipython",
    "version": 3
   },
   "file_extension": ".py",
   "mimetype": "text/x-python",
   "name": "python",
   "nbconvert_exporter": "python",
   "pygments_lexer": "ipython3",
   "version": "3.10.8"
  },
  "orig_nbformat": 4
 },
 "nbformat": 4,
 "nbformat_minor": 2
}
