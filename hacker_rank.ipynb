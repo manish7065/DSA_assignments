{
 "cells": [
  {
   "cell_type": "markdown",
   "metadata": {},
   "source": [
    "Given the names and grades for each student in a class of  students, store them in a nested list and print the name(s) of any student(s) having the second lowest grade.\n",
    "\n",
    "Note: If there are multiple students with the second lowest grade, order their names alphabetically and print each name on a new line.\n",
    "\n",
    "Example\n",
    "\n",
    "The ordered list of scores is , so the second lowest score is . There are two students with that score: . Ordered alphabetically, the names are printed as:\n",
    "\n",
    "alpha\n",
    "beta\n",
    "Input Format\n",
    "\n",
    "The first line contains an integer, , the number of students.\n",
    "The  subsequent lines describe each student over  lines.\n",
    "- The first line contains a student's name.\n",
    "- The second line contains their grade.\n",
    "\n",
    "Constraints\n",
    "\n",
    "There will always be one or more students having the second lowest grade.\n",
    "Output Format\n",
    "\n",
    "Print the name(s) of any student(s) having the second lowest grade in. If there are multiple students, order their names alphabetically and print each one on a new line.\n",
    "\n",
    "Sample Input 0\n",
    "[link](https://www.hackerrank.com/challenges/nested-list/problem?isFullScreen=true&h_r=next-challenge&h_v=zen&h_r=next-challenge&h_v=zen)"
   ]
  },
  {
   "cell_type": "code",
   "execution_count": 1,
   "metadata": {},
   "outputs": [
    {
     "name": "stdout",
     "output_type": "stream",
     "text": [
      "      Name  Score\n",
      "0    Alice     95\n",
      "1      Bob     88\n",
      "2  Charlie     72\n",
      "3    David     91\n",
      "4      Eve     78\n"
     ]
    }
   ],
   "source": [
    "import pandas as pd\n",
    "\n",
    "# List of dictionaries containing student names and scores\n",
    "student_data = [\n",
    "    {\"Name\": \"Alice\", \"Score\": 95},\n",
    "    {\"Name\": \"Bob\", \"Score\": 88},\n",
    "    {\"Name\": \"Charlie\", \"Score\": 72},\n",
    "    {\"Name\": \"David\", \"Score\": 91},\n",
    "    {\"Name\": \"Eve\", \"Score\": 78}\n",
    "]\n",
    "\n",
    "# Create a DataFrame from the list of dictionaries\n",
    "df = pd.DataFrame(student_data)\n",
    "\n",
    "# Display the DataFrame\n",
    "print(df)\n"
   ]
  },
  {
   "cell_type": "code",
   "execution_count": 20,
   "metadata": {},
   "outputs": [
    {
     "data": {
      "text/plain": [
       "[{'Name': 'Alice', 'Score': 95},\n",
       " {'Name': 'Bob', 'Score': 88},\n",
       " {'Name': 'Charlie', 'Score': 72},\n",
       " {'Name': 'David', 'Score': 91},\n",
       " {'Name': 'Eve', 'Score': 78}]"
      ]
     },
     "execution_count": 20,
     "metadata": {},
     "output_type": "execute_result"
    }
   ],
   "source": [
    "student_data"
   ]
  },
  {
   "cell_type": "code",
   "execution_count": 19,
   "metadata": {},
   "outputs": [
    {
     "name": "stdout",
     "output_type": "stream",
     "text": [
      "Age: 30\n",
      "Gender: Key not found\n"
     ]
    }
   ],
   "source": [
    "my_dict = {\"name\": \"Alice\", \"age\": 30, \"city\": \"New York\"}\n",
    "\n",
    "# Get the value associated with a key, or a default value if not found\n",
    "age = my_dict.get(\"age\", \"Key not found\")\n",
    "print(\"Age:\", age)\n",
    "\n",
    "# Try to get a key that doesn't exist\n",
    "gender = my_dict.get(\"gender\", \"Key not found\")\n",
    "print(\"Gender:\", gender)\n"
   ]
  },
  {
   "cell_type": "code",
   "execution_count": 12,
   "metadata": {},
   "outputs": [
    {
     "name": "stdout",
     "output_type": "stream",
     "text": [
      "[2, 4]\n"
     ]
    }
   ],
   "source": [
    "my_list = [1, 2, 3, 4, 3, 5]\n",
    "print([i for i,x in enumerate(my_list) if x==3])"
   ]
  },
  {
   "cell_type": "code",
   "execution_count": 15,
   "metadata": {},
   "outputs": [
    {
     "name": "stdout",
     "output_type": "stream",
     "text": [
      "[(0, 1), (1, 2), (2, 3), (3, 4), (4, 3), (5, 5)]\n"
     ]
    }
   ],
   "source": [
    "my_list = [1, 2, 3, 4, 3, 5]\n",
    "print([i for i in enumerate(my_list)])"
   ]
  },
  {
   "cell_type": "markdown",
   "metadata": {},
   "source": [
    "# Dictionary shorting"
   ]
  },
  {
   "cell_type": "code",
   "execution_count": 25,
   "metadata": {},
   "outputs": [
    {
     "name": "stdout",
     "output_type": "stream",
     "text": [
      "{'apple': 3, 'banana': 1, 'cherry': 2}\n"
     ]
    }
   ],
   "source": [
    "my_dict = {\"apple\": 3, \"banana\": 1, \"cherry\": 2,\"cucumber\": 2}\n",
    "\n",
    "# Sort the dictionary by keys in ascending order\n",
    "sorted_dict_by_keys = dict(sorted(my_dict.items()))\n",
    "\n",
    "\n",
    "print(sorted_dict_by_keys)\n"
   ]
  },
  {
   "cell_type": "code",
   "execution_count": 26,
   "metadata": {},
   "outputs": [
    {
     "name": "stdout",
     "output_type": "stream",
     "text": [
      "{'banana': 1, 'cherry': 2, 'apple': 3}\n"
     ]
    }
   ],
   "source": [
    "my_dict = {\"apple\": 3, \"banana\": 1, \"cherry\": 2}\n",
    "\n",
    "# Sort the dictionary by values in ascending order\n",
    "sorted_dict_by_values = dict(sorted(my_dict.items(), key=lambda item: item[1]))\n",
    "\n",
    "print(sorted_dict_by_values)\n"
   ]
  },
  {
   "cell_type": "markdown",
   "metadata": {},
   "source": [
    "## short by value then key"
   ]
  },
  {
   "cell_type": "code",
   "execution_count": 35,
   "metadata": {},
   "outputs": [
    {
     "data": {
      "text/plain": [
       "{'banana': 1, 'cherry': 2, 'cucumber': 2, 'apple': 3}"
      ]
     },
     "execution_count": 35,
     "metadata": {},
     "output_type": "execute_result"
    }
   ],
   "source": [
    "my_dict = {\"apple\": 3, \"banana\": 1, \"cherry\": 2,\"cucumber\": 2}\n",
    "my_dict = dict(sorted(my_dict.items()))\n",
    "my_dict = dict(sorted(my_dict.items(), key=lambda item: item[1]))\n",
    "\n",
    "my_dict"
   ]
  },
  {
   "cell_type": "code",
   "execution_count": null,
   "metadata": {},
   "outputs": [],
   "source": [
    "max(my_dict.values())\n"
   ]
  }
 ],
 "metadata": {
  "kernelspec": {
   "display_name": "Python 3 (ipykernel)",
   "language": "python",
   "name": "python3"
  },
  "language_info": {
   "codemirror_mode": {
    "name": "ipython",
    "version": 3
   },
   "file_extension": ".py",
   "mimetype": "text/x-python",
   "name": "python",
   "nbconvert_exporter": "python",
   "pygments_lexer": "ipython3",
   "version": "3.10.8"
  },
  "orig_nbformat": 4
 },
 "nbformat": 4,
 "nbformat_minor": 2
}
