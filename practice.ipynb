{
 "cells": [
  {
   "cell_type": "code",
   "execution_count": 3,
   "metadata": {},
   "outputs": [
    {
     "name": "stdout",
     "output_type": "stream",
     "text": [
      "manish dbg india\n"
     ]
    }
   ],
   "source": [
    "name=input(f\"Enter your name:\") \n",
    "city=input(f\"Enter your city:\") \n",
    "country=input(f\"Enter your country:\") \n",
    "\n",
    "print(f\"{' '.join([name,city,country])}\")"
   ]
  },
  {
   "cell_type": "code",
   "execution_count": 33,
   "metadata": {},
   "outputs": [],
   "source": [
    "# palendrom check\n",
    "\n",
    "def ped_check(s):\n",
    "    if s==s[::-1]:\n",
    "        print(\"y\")\n",
    "    else:\n",
    "        print('no')\n"
   ]
  },
  {
   "cell_type": "code",
   "execution_count": 35,
   "metadata": {},
   "outputs": [
    {
     "name": "stdout",
     "output_type": "stream",
     "text": [
      "y\n"
     ]
    }
   ],
   "source": [
    "ped_check('naian')"
   ]
  },
  {
   "cell_type": "code",
   "execution_count": 37,
   "metadata": {},
   "outputs": [
    {
     "name": "stdout",
     "output_type": "stream",
     "text": [
      "It is a palindrome.\n"
     ]
    }
   ],
   "source": [
    "def is_palindrome(string):\n",
    "    # Remove whitespace and convert to lowercase\n",
    "    string = string.replace(\" \", \"\").lower()\n",
    "    \n",
    "    # Check if the string is equal to its reverse\n",
    "    reversed_string = \"\"\n",
    "    for char in string:\n",
    "        reversed_string = char + reversed_string\n",
    "    \n",
    "    return string == reversed_string\n",
    "\n",
    "# Test the function\n",
    "input_string = input(\"Enter a string: \")\n",
    "if is_palindrome(input_string):\n",
    "    print(\"It is a palindrome.\")\n",
    "else:\n",
    "    print(\"It is not a palindrome.\")\n"
   ]
  },
  {
   "cell_type": "code",
   "execution_count": 40,
   "metadata": {},
   "outputs": [
    {
     "name": "stdout",
     "output_type": "stream",
     "text": [
      "hsinam\n"
     ]
    }
   ],
   "source": [
    "r=''\n",
    "for char in \"manish\":\n",
    "    # print(char)\n",
    "    r = char+r\n",
    "print(r)"
   ]
  },
  {
   "cell_type": "code",
   "execution_count": 42,
   "metadata": {},
   "outputs": [
    {
     "name": "stdout",
     "output_type": "stream",
     "text": [
      "Function 'calculate_sum' executed in 1.001070261001587 seconds\n",
      "15\n"
     ]
    }
   ],
   "source": [
    "import time\n",
    "\n",
    "def log_time(func):\n",
    "    def wrapper(*args, **kwargs):\n",
    "        start_time = time.time()\n",
    "        result = func(*args, **kwargs)\n",
    "        end_time = time.time()\n",
    "        execution_time = end_time - start_time\n",
    "        print(f\"Function '{func.__name__}' executed in {execution_time} seconds\")\n",
    "        return result\n",
    "    return wrapper\n",
    "\n",
    "# Using the decorator\n",
    "@log_time\n",
    "def calculate_sum(a, b):\n",
    "    time.sleep(1)  # Simulating some time-consuming operation\n",
    "    return a + b\n",
    "\n",
    "result = calculate_sum(5, 10)\n",
    "print(result)\n"
   ]
  },
  {
   "cell_type": "code",
   "execution_count": 43,
   "metadata": {},
   "outputs": [
    {
     "name": "stdout",
     "output_type": "stream",
     "text": [
      "1\n"
     ]
    }
   ],
   "source": [
    "def count_substring(string, sub_string):\n",
    "    count = 0\n",
    "    len_sub = len(sub_string)\n",
    "\n",
    "\n",
    "    if sub_string in string:\n",
    "        count = count +1\n",
    "    return count\n",
    "\n",
    "\n",
    "if __name__ == '__main__':\n",
    "    string = input().strip()\n",
    "    sub_string = input().strip()\n",
    "    \n",
    "    count = count_substring(string, sub_string)\n",
    "    print(count)"
   ]
  },
  {
   "cell_type": "code",
   "execution_count": null,
   "metadata": {},
   "outputs": [],
   "source": [
    "https://chat.openai.com/share/19a4115a-5ebd-4ead-98da-c272915b44bb"
   ]
  },
  {
   "cell_type": "code",
   "execution_count": null,
   "metadata": {},
   "outputs": [],
   "source": []
  },
  {
   "cell_type": "code",
   "execution_count": 6,
   "metadata": {},
   "outputs": [
    {
     "name": "stdout",
     "output_type": "stream",
     "text": [
      "MANish\n",
      "manISH\n"
     ]
    }
   ],
   "source": [
    "# https://www.hackerrank.com/challenges/swap-case/problem?isFullScreen=true\n",
    "def swap_case(s):\n",
    "    print(s)\n",
    "    new_string = ''\n",
    "    for i in s:\n",
    "        if i.isupper():\n",
    "\n",
    "            new_string = new_string+i.lower()\n",
    "        elif i.islower():\n",
    "            new_string = new_string+i.upper()\n",
    "        else:\n",
    "            new_string = new_string + i\n",
    "\n",
    "\n",
    "\n",
    "    return new_string\n",
    "\n",
    "if __name__ == '__main__':\n",
    "    s = input()\n",
    "    result = swap_case(s)\n",
    "    print(result)"
   ]
  },
  {
   "cell_type": "code",
   "execution_count": 3,
   "metadata": {},
   "outputs": [
    {
     "name": "stdout",
     "output_type": "stream",
     "text": [
      "M\n",
      "A\n",
      "N\n"
     ]
    }
   ],
   "source": [
    "for i in \"man\":\n",
    "    print(i.upper())"
   ]
  },
  {
   "cell_type": "markdown",
   "metadata": {},
   "source": [
    "### Shallow nad deep copy"
   ]
  },
  {
   "cell_type": "code",
   "execution_count": 1,
   "metadata": {},
   "outputs": [],
   "source": [
    "import copy\n",
    "my_list = [1,2,3,4]"
   ]
  },
  {
   "cell_type": "code",
   "execution_count": 2,
   "metadata": {},
   "outputs": [],
   "source": [
    "my_d_copy = copy.deepcopy(my_list)"
   ]
  },
  {
   "cell_type": "code",
   "execution_count": 45,
   "metadata": {},
   "outputs": [
    {
     "data": {
      "text/plain": [
       "[7, 2, 3, 4]"
      ]
     },
     "execution_count": 45,
     "metadata": {},
     "output_type": "execute_result"
    }
   ],
   "source": [
    "my_list"
   ]
  },
  {
   "cell_type": "code",
   "execution_count": 46,
   "metadata": {},
   "outputs": [
    {
     "data": {
      "text/plain": [
       "[1, 2, 3, 4]"
      ]
     },
     "execution_count": 46,
     "metadata": {},
     "output_type": "execute_result"
    }
   ],
   "source": [
    "my_d_copy"
   ]
  },
  {
   "cell_type": "code",
   "execution_count": 48,
   "metadata": {},
   "outputs": [
    {
     "name": "stdout",
     "output_type": "stream",
     "text": [
      "139834710981120\n",
      "139834705850816\n"
     ]
    }
   ],
   "source": [
    "print(id(my_d_copy))\n",
    "print(id(my_list))\n"
   ]
  },
  {
   "cell_type": "code",
   "execution_count": 5,
   "metadata": {},
   "outputs": [
    {
     "data": {
      "text/plain": [
       "[6, 2, 3, 4]"
      ]
     },
     "execution_count": 5,
     "metadata": {},
     "output_type": "execute_result"
    }
   ],
   "source": [
    "my_list[0]=6\n",
    "my_list"
   ]
  },
  {
   "cell_type": "code",
   "execution_count": 6,
   "metadata": {},
   "outputs": [
    {
     "data": {
      "text/plain": [
       "[1, 2, 3, 4]"
      ]
     },
     "execution_count": 6,
     "metadata": {},
     "output_type": "execute_result"
    }
   ],
   "source": [
    "my_d_copy"
   ]
  },
  {
   "cell_type": "code",
   "execution_count": 8,
   "metadata": {},
   "outputs": [],
   "source": [
    "my_sallow_copy = copy.copy(my_list)"
   ]
  },
  {
   "cell_type": "code",
   "execution_count": 9,
   "metadata": {},
   "outputs": [
    {
     "data": {
      "text/plain": [
       "[6, 2, 3, 4]"
      ]
     },
     "execution_count": 9,
     "metadata": {},
     "output_type": "execute_result"
    }
   ],
   "source": [
    "my_sallow_copy"
   ]
  },
  {
   "cell_type": "code",
   "execution_count": 10,
   "metadata": {},
   "outputs": [
    {
     "data": {
      "text/plain": [
       "[7, 2, 3, 4]"
      ]
     },
     "execution_count": 10,
     "metadata": {},
     "output_type": "execute_result"
    }
   ],
   "source": [
    "my_list[0]=7\n",
    "my_list"
   ]
  },
  {
   "cell_type": "code",
   "execution_count": 11,
   "metadata": {},
   "outputs": [
    {
     "data": {
      "text/plain": [
       "[6, 2, 3, 4]"
      ]
     },
     "execution_count": 11,
     "metadata": {},
     "output_type": "execute_result"
    }
   ],
   "source": [
    "my_sallow_copy"
   ]
  },
  {
   "cell_type": "markdown",
   "metadata": {},
   "source": [
    "### Write a python program to impliment stack using list"
   ]
  },
  {
   "cell_type": "code",
   "execution_count": 29,
   "metadata": {},
   "outputs": [],
   "source": [
    "class Stack:\n",
    "    def __init__(self):\n",
    "        self.items = []\n",
    "\n",
    "    def is_empty(self):\n",
    "        return len(self.items) == 0\n",
    "\n",
    "    def push(self, item):\n",
    "        self.items.append(item)\n",
    "\n",
    "    def pop(self):\n",
    "        if self.is_empty():\n",
    "            raise IndexError(\"Stack is empty\")\n",
    "        return self.items.pop()\n",
    "\n",
    "    def peek(self):\n",
    "        if self.is_empty():\n",
    "            raise IndexError(\"Stack is empty\")\n",
    "        return self.items[-1]\n",
    "\n",
    "    def size(self):\n",
    "        return len(self.items)\n"
   ]
  },
  {
   "cell_type": "code",
   "execution_count": 30,
   "metadata": {},
   "outputs": [],
   "source": [
    "st = Stack()"
   ]
  },
  {
   "cell_type": "code",
   "execution_count": 31,
   "metadata": {},
   "outputs": [
    {
     "data": {
      "text/plain": [
       "True"
      ]
     },
     "execution_count": 31,
     "metadata": {},
     "output_type": "execute_result"
    }
   ],
   "source": [
    "st.is_empty()"
   ]
  },
  {
   "cell_type": "code",
   "execution_count": 38,
   "metadata": {},
   "outputs": [],
   "source": [
    "st.push(['manish',28,'dbg'])"
   ]
  },
  {
   "cell_type": "code",
   "execution_count": 39,
   "metadata": {},
   "outputs": [
    {
     "data": {
      "text/plain": [
       "['manish', 28, 'dbg']"
      ]
     },
     "execution_count": 39,
     "metadata": {},
     "output_type": "execute_result"
    }
   ],
   "source": [
    "st.peek()\n"
   ]
  },
  {
   "cell_type": "code",
   "execution_count": 34,
   "metadata": {},
   "outputs": [
    {
     "data": {
      "text/plain": [
       "['manish', 28, 'dbg']"
      ]
     },
     "execution_count": 34,
     "metadata": {},
     "output_type": "execute_result"
    }
   ],
   "source": [
    "st.pop()"
   ]
  },
  {
   "cell_type": "code",
   "execution_count": 40,
   "metadata": {},
   "outputs": [],
   "source": [
    "st.push(90)\n"
   ]
  },
  {
   "cell_type": "code",
   "execution_count": 41,
   "metadata": {},
   "outputs": [
    {
     "data": {
      "text/plain": [
       "90"
      ]
     },
     "execution_count": 41,
     "metadata": {},
     "output_type": "execute_result"
    }
   ],
   "source": [
    "st.peek()"
   ]
  },
  {
   "cell_type": "code",
   "execution_count": 36,
   "metadata": {},
   "outputs": [
    {
     "data": {
      "text/plain": [
       "1"
      ]
     },
     "execution_count": 36,
     "metadata": {},
     "output_type": "execute_result"
    }
   ],
   "source": [
    "st.size()"
   ]
  },
  {
   "cell_type": "code",
   "execution_count": 28,
   "metadata": {},
   "outputs": [
    {
     "name": "stdout",
     "output_type": "stream",
     "text": [
      "Popped item: 30\n",
      "Top item: 20\n",
      "Is stack empty? False\n",
      "Stack size: 2\n"
     ]
    }
   ],
   "source": [
    "# Create a stack object\n",
    "stack = Stack()\n",
    "\n",
    "# Push items onto the stack\n",
    "stack.push(10)\n",
    "stack.push(20)\n",
    "stack.push(30)\n",
    "\n",
    "# Pop an item from the stack\n",
    "popped_item = stack.pop()\n",
    "print(\"Popped item:\", popped_item)\n",
    "\n",
    "# Peek at the top item\n",
    "top_item = stack.peek()\n",
    "print(\"Top item:\", top_item)\n",
    "\n",
    "# Check if the stack is empty\n",
    "print(\"Is stack empty?\", stack.is_empty())\n",
    "\n",
    "# Get the size of the stack\n",
    "print(\"Stack size:\", stack.size())\n"
   ]
  },
  {
   "cell_type": "markdown",
   "metadata": {},
   "source": [
    "### write the python program to find the longest common substring between two string\n",
    "\n",
    "\n"
   ]
  },
  {
   "cell_type": "code",
   "execution_count": 43,
   "metadata": {},
   "outputs": [
    {
     "name": "stdout",
     "output_type": "stream",
     "text": [
      "Longest Common Substring: defv\n"
     ]
    }
   ],
   "source": [
    "def longest_common_substring(s1, s2):\n",
    "    m = len(s1)\n",
    "    n = len(s2)\n",
    "\n",
    "    # Initialize a matrix to store the lengths of common substrings\n",
    "    dp = [[0] * (n + 1) for _ in range(m + 1)]\n",
    "\n",
    "    # Variables to keep track of the longest common substring and its length\n",
    "    max_length = 0\n",
    "    end_index = 0\n",
    "\n",
    "    # Iterate over the strings and fill the matrix\n",
    "    for i in range(1, m + 1):\n",
    "        for j in range(1, n + 1):\n",
    "            if s1[i - 1] == s2[j - 1]:\n",
    "                dp[i][j] = dp[i - 1][j - 1] + 1\n",
    "                if dp[i][j] > max_length:\n",
    "                    max_length = dp[i][j]\n",
    "                    end_index = i\n",
    "\n",
    "    # Extract the longest common substring from s1\n",
    "    longest_substring = s1[end_index - max_length: end_index]\n",
    "    return longest_substring\n",
    "\n",
    "\n",
    "# Example usage\n",
    "string1 = \"abcdefvf\"\n",
    "string2 = \"defvghi\"\n",
    "result = longest_common_substring(string1, string2)\n",
    "print(\"Longest Common Substring:\", result)\n"
   ]
  },
  {
   "cell_type": "markdown",
   "metadata": {},
   "source": [
    "### Write a program to implement a binary tree and perform a depth-first search\n",
    "\n"
   ]
  },
  {
   "cell_type": "code",
   "execution_count": 44,
   "metadata": {},
   "outputs": [
    {
     "name": "stdout",
     "output_type": "stream",
     "text": [
      "Depth-First Search:\n",
      "1\n",
      "2\n",
      "4\n",
      "5\n",
      "3\n"
     ]
    }
   ],
   "source": [
    "class Node:\n",
    "    def __init__(self, value):\n",
    "        self.value = value\n",
    "        self.left = None\n",
    "        self.right = None\n",
    "\n",
    "def depth_first_search(node):\n",
    "    if node is None:\n",
    "        return\n",
    "\n",
    "    print(node.value)  # Perform some operation on the current node\n",
    "\n",
    "    depth_first_search(node.left)  # Recursively traverse the left subtree\n",
    "    depth_first_search(node.right)  # Recursively traverse the right subtree\n",
    "\n",
    "# Creating a binary tree\n",
    "root = Node(1)\n",
    "root.left = Node(2)\n",
    "root.right = Node(3)\n",
    "root.left.left = Node(4)\n",
    "root.left.right = Node(5)\n",
    "\n",
    "# Performing depth-first search (DFS)\n",
    "print(\"Depth-First Search:\")\n",
    "depth_first_search(root)\n"
   ]
  },
  {
   "cell_type": "markdown",
   "metadata": {},
   "source": [
    "### Write a python code to implement fibonacci series"
   ]
  },
  {
   "cell_type": "code",
   "execution_count": 16,
   "metadata": {},
   "outputs": [
    {
     "name": "stdout",
     "output_type": "stream",
     "text": [
      "Invalid input. Please provide a positive integer.\n",
      "Fibonacci series up to 0 : None\n"
     ]
    }
   ],
   "source": [
    "# Fibonnaci series of upto n\n",
    "\n",
    "def fibonacci_series(n):\n",
    "    # Check if the given number is valid\n",
    "    if n <= 0:\n",
    "        print(\"Invalid input. Please provide a positive integer.\")\n",
    "        return\n",
    "\n",
    "    # Initialize the first two numbers of the series\n",
    "    fib_list = [0, 1]\n",
    "\n",
    "    # Generate Fibonacci series up to the given number\n",
    "    while fib_list[-1] <= n:\n",
    "        next_number = fib_list[-1] + fib_list[-2]\n",
    "        if next_number > n:\n",
    "            break\n",
    "        fib_list.append(next_number)\n",
    "\n",
    "    return fib_list\n",
    "\n",
    "# Example usage\n",
    "number = int(input(\"Enter a number: \"))\n",
    "result = fibonacci_series(number)\n",
    "print(\"Fibonacci series up to\", number, \":\", result)\n"
   ]
  },
  {
   "cell_type": "code",
   "execution_count": 19,
   "metadata": {},
   "outputs": [
    {
     "data": {
      "text/plain": [
       "[0, 1, 1, 2, 3]"
      ]
     },
     "execution_count": 19,
     "metadata": {},
     "output_type": "execute_result"
    }
   ],
   "source": [
    "# fiibonacci sries of n numbers\n",
    "\n",
    "def fibonacci_series(n):\n",
    "    if n < 0:\n",
    "        print(\"Please give a poditive integer.\")\n",
    "\n",
    "    elif n==1:\n",
    "        return [0]\n",
    "\n",
    "    elif n==2:\n",
    "        return [0,1]\n",
    "\n",
    "    fib = fibonacci_series(n-1)\n",
    "\n",
    "    fib.append(fib[-1]+fib[-2])\n",
    "\n",
    "    return fib\n",
    "\n",
    "\n",
    "fibonacci_series(5)"
   ]
  },
  {
   "cell_type": "code",
   "execution_count": 14,
   "metadata": {},
   "outputs": [
    {
     "data": {
      "text/plain": [
       "[0, 1]"
      ]
     },
     "execution_count": 14,
     "metadata": {},
     "output_type": "execute_result"
    }
   ],
   "source": [
    "# Fibonnaci Series using Recursion\n",
    "\n",
    "def fibonacci_series(n):\n",
    "    # Check if given number is correct \n",
    "    if n<0:\n",
    "        print(\"Please enter the Positive Integer.\")\n",
    "\n",
    "        return []\n",
    "\n",
    "    if n == 1:\n",
    "        return [0]\n",
    "    elif n == 2:\n",
    "        return [0,1]\n",
    "    \n",
    "    fib = fibonacci_series(n-1)\n",
    "   \n",
    "    fib.append(fib[-1]+fib[-2])\n",
    "\n",
    "    return fib\n",
    "\n",
    "fibonacci_series(2)"
   ]
  },
  {
   "cell_type": "code",
   "execution_count": null,
   "metadata": {},
   "outputs": [],
   "source": []
  }
 ],
 "metadata": {
  "kernelspec": {
   "display_name": "Python 3.8.10 64-bit",
   "language": "python",
   "name": "python3"
  },
  "language_info": {
   "codemirror_mode": {
    "name": "ipython",
    "version": 3
   },
   "file_extension": ".py",
   "mimetype": "text/x-python",
   "name": "python",
   "nbconvert_exporter": "python",
   "pygments_lexer": "ipython3",
   "version": "3.8.10"
  },
  "orig_nbformat": 4,
  "vscode": {
   "interpreter": {
    "hash": "e7370f93d1d0cde622a1f8e1c04877d8463912d04d973331ad4851f04de6915a"
   }
  }
 },
 "nbformat": 4,
 "nbformat_minor": 2
}
